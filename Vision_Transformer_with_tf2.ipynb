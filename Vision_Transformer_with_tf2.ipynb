{
  "nbformat": 4,
  "nbformat_minor": 0,
  "metadata": {
    "colab": {
      "name": "Vision Transformer with tf2.ipynb",
      "provenance": [],
      "authorship_tag": "ABX9TyNw6eZhArvwuJ/iH9k/WUFO",
      "include_colab_link": true
    },
    "kernelspec": {
      "name": "python3",
      "display_name": "Python 3"
    },
    "accelerator": "GPU"
  },
  "cells": [
    {
      "cell_type": "markdown",
      "metadata": {
        "id": "view-in-github",
        "colab_type": "text"
      },
      "source": [
        "<a href=\"https://colab.research.google.com/github/ashishpatel26/Vision-Transformer-Keras-Tensorflow-Pytorch-Examples/blob/main/Vision_Transformer_with_tf2.ipynb\" target=\"_parent\"><img src=\"https://colab.research.google.com/assets/colab-badge.svg\" alt=\"Open In Colab\"/></a>"
      ]
    },
    {
      "cell_type": "code",
      "metadata": {
        "id": "RrCqNMfrGNwN"
      },
      "source": [
        "# !pip install einops\r\n",
        "  \r\n",
        "import math\r\n",
        "\r\n",
        "import six\r\n",
        "from einops.layers.tensorflow import Rearrange\r\n",
        "import tensorflow as tf\r\n",
        "from tensorflow.keras.callbacks import TensorBoard\r\n",
        "\r\n",
        "from tensorflow.keras import datasets\r\n",
        "\r\n",
        "import logging\r\n",
        "import numpy as np\r\n",
        "\r\n",
        "from fastprogress import master_bar, progress_bar"
      ],
      "execution_count": 21,
      "outputs": []
    },
    {
      "cell_type": "code",
      "metadata": {
        "colab": {
          "base_uri": "https://localhost:8080/"
        },
        "id": "pbgZNuWmGhLS",
        "outputId": "2e959630-268e-410d-ca00-22d8de9eab4c"
      },
      "source": [
        "!nvidia-smi"
      ],
      "execution_count": 2,
      "outputs": [
        {
          "output_type": "stream",
          "text": [
            "Tue Jan  5 06:11:06 2021       \n",
            "+-----------------------------------------------------------------------------+\n",
            "| NVIDIA-SMI 460.27.04    Driver Version: 418.67       CUDA Version: 10.1     |\n",
            "|-------------------------------+----------------------+----------------------+\n",
            "| GPU  Name        Persistence-M| Bus-Id        Disp.A | Volatile Uncorr. ECC |\n",
            "| Fan  Temp  Perf  Pwr:Usage/Cap|         Memory-Usage | GPU-Util  Compute M. |\n",
            "|                               |                      |               MIG M. |\n",
            "|===============================+======================+======================|\n",
            "|   0  Tesla T4            Off  | 00000000:00:04.0 Off |                    0 |\n",
            "| N/A   66C    P8    11W /  70W |      0MiB / 15079MiB |      0%      Default |\n",
            "|                               |                      |                 ERR! |\n",
            "+-------------------------------+----------------------+----------------------+\n",
            "                                                                               \n",
            "+-----------------------------------------------------------------------------+\n",
            "| Processes:                                                                  |\n",
            "|  GPU   GI   CI        PID   Type   Process name                  GPU Memory |\n",
            "|        ID   ID                                                   Usage      |\n",
            "|=============================================================================|\n",
            "|  No running processes found                                                 |\n",
            "+-----------------------------------------------------------------------------+\n"
          ],
          "name": "stdout"
        }
      ]
    },
    {
      "cell_type": "markdown",
      "metadata": {
        "id": "Wd1sZULgIxn4"
      },
      "source": [
        "### Vision Transformer\r\n",
        "\r\n",
        "![](https://raw.githubusercontent.com/kamalkraj/Vision-Transformer/main/vit.png)"
      ]
    },
    {
      "cell_type": "code",
      "metadata": {
        "id": "Ral9LvuZIJg4"
      },
      "source": [
        "def gelu(x):\r\n",
        "    \"\"\"Gaussian Error Linear Unit.\r\n",
        "    This is a smoother version of the RELU.\r\n",
        "    Original paper: https://arxiv.org/abs/1606.08415\r\n",
        "    Args:\r\n",
        "        x: float Tensor to perform activation.\r\n",
        "    Returns:\r\n",
        "        `x` with the GELU activation applied.\r\n",
        "    \"\"\"\r\n",
        "    cdf = 0.5 * (1.0 + tf.tanh(\r\n",
        "        (math.sqrt(2 / math.pi) * (x + 0.044715 * tf.pow(x, 3)))))\r\n",
        "    return x * cdf\r\n",
        "\r\n",
        "\r\n",
        "def get_activation(identifier):\r\n",
        "    \"\"\"Maps a identifier to a Python function, e.g., \"relu\" => `tf.nn.relu`.\r\n",
        "    It checks string first and if it is one of customized activation not in TF,\r\n",
        "    the corresponding activation will be returned. For non-customized activation\r\n",
        "    names and callable identifiers, always fallback to tf.keras.activations.get.\r\n",
        "    Args:\r\n",
        "        identifier: String name of the activation function or callable.\r\n",
        "    Returns:\r\n",
        "        A Python function corresponding to the activation function.\r\n",
        "    \"\"\"\r\n",
        "    if isinstance(identifier, six.string_types):\r\n",
        "        name_to_fn = {\"gelu\": gelu}\r\n",
        "        identifier = str(identifier).lower()\r\n",
        "        if identifier in name_to_fn:\r\n",
        "            return tf.keras.activations.get(name_to_fn[identifier])\r\n",
        "    return tf.keras.activations.get(identifier)\r\n",
        "\r\n",
        "\r\n",
        "class Residual(tf.keras.Model):\r\n",
        "\r\n",
        "    def __init__(self, fn):\r\n",
        "        super().__init__()\r\n",
        "        self.fn = fn\r\n",
        "\r\n",
        "    def call(self, x):\r\n",
        "        return self.fn(x) + x\r\n",
        "\r\n",
        "\r\n",
        "class PreNorm(tf.keras.Model):\r\n",
        "\r\n",
        "    def __init__(self, dim, fn):\r\n",
        "        super().__init__()\r\n",
        "        self.norm = tf.keras.layers.LayerNormalization(epsilon=1e-5)\r\n",
        "        self.fn = fn\r\n",
        "\r\n",
        "    def call(self, x):\r\n",
        "        return self.fn(self.norm(x))\r\n",
        "\r\n",
        "\r\n",
        "class FeedForward(tf.keras.Model):\r\n",
        "\r\n",
        "    def __init__(self, dim, hidden_dim):\r\n",
        "        super().__init__()\r\n",
        "        self.net = tf.keras.Sequential([tf.keras.layers.Dense(hidden_dim, activation=get_activation('gelu')),\r\n",
        "                                        tf.keras.layers.Dense(dim)])\r\n",
        "\r\n",
        "    def call(self, x):\r\n",
        "        return self.net(x)\r\n",
        "\r\n",
        "class Attention(tf.keras.Model):\r\n",
        "\r\n",
        "    def __init__(self, dim, heads = 8):\r\n",
        "        super().__init__()\r\n",
        "        self.heads = heads\r\n",
        "        self.scale = dim ** -0.5\r\n",
        "\r\n",
        "        self.to_qkv = tf.keras.layers.Dense(dim * 3, use_bias=False)\r\n",
        "        self.to_out = tf.keras.layers.Dense(dim)\r\n",
        "\r\n",
        "        self.rearrange_qkv = Rearrange('b n (qkv h d) -> qkv b h n d', qkv = 3, h = self.heads)\r\n",
        "        self.rearrange_out = Rearrange('b h n d -> b n (h d)')\r\n",
        "\r\n",
        "    def call(self, x):\r\n",
        "        qkv = self.to_qkv(x)\r\n",
        "        qkv = self.rearrange_qkv(qkv)\r\n",
        "        q = qkv[0]\r\n",
        "        k = qkv[1]\r\n",
        "        v = qkv[2]\r\n",
        "\r\n",
        "        dots = tf.einsum('bhid,bhjd->bhij', q, k) * self.scale\r\n",
        "        attn = tf.nn.softmax(dots,axis=-1)\r\n",
        "\r\n",
        "        out = tf.einsum('bhij,bhjd->bhid', attn, v)\r\n",
        "        out = self.rearrange_out(out)\r\n",
        "        out =  self.to_out(out)\r\n",
        "        return out\r\n",
        "\r\n",
        "class Transformer(tf.keras.Model):\r\n",
        "\r\n",
        "    def __init__(self, dim, depth, heads, mlp_dim):\r\n",
        "        super().__init__()\r\n",
        "        layers = []\r\n",
        "        for _ in range(depth):\r\n",
        "            layers.extend([\r\n",
        "                Residual(PreNorm(dim, Attention(dim, heads = heads))),\r\n",
        "                Residual(PreNorm(dim, FeedForward(dim, mlp_dim)))\r\n",
        "            ])\r\n",
        "        self.net = tf.keras.Sequential(layers)\r\n",
        "\r\n",
        "    def call(self, x):\r\n",
        "        return self.net(x)\r\n",
        "\r\n",
        "class ViT(tf.keras.Model):\r\n",
        "\r\n",
        "    def __init__(self, *, image_size, patch_size, num_classes, dim, depth, heads, mlp_dim, channels=3):\r\n",
        "        super().__init__()\r\n",
        "        assert image_size % patch_size == 0, 'image dimensions must be divisible by the patch size'\r\n",
        "        num_patches = (image_size // patch_size) ** 2\r\n",
        "        patch_dim = channels * patch_size ** 2\r\n",
        "\r\n",
        "        self.patch_size = patch_size\r\n",
        "        self.dim = dim\r\n",
        "        self.pos_embedding = self.add_weight(\"position_embeddings\",\r\n",
        "                                             shape=[num_patches + 1,\r\n",
        "                                                    dim],\r\n",
        "                                             initializer=tf.keras.initializers.RandomNormal(),\r\n",
        "                                             dtype=tf.float32)\r\n",
        "        self.patch_to_embedding = tf.keras.layers.Dense(dim)\r\n",
        "        self.cls_token = self.add_weight(\"cls_token\",\r\n",
        "                                         shape=[1,\r\n",
        "                                                1,\r\n",
        "                                                dim],\r\n",
        "                                         initializer=tf.keras.initializers.RandomNormal(),\r\n",
        "                                         dtype=tf.float32)\r\n",
        "\r\n",
        "        self.rearrange = Rearrange('b c (h p1) (w p2) -> b (h w) (p1 p2 c)', p1=self.patch_size, p2=self.patch_size)\r\n",
        "\r\n",
        "        self.transformer = Transformer(dim, depth, heads, mlp_dim)\r\n",
        "\r\n",
        "        self.to_cls_token = tf.identity\r\n",
        "\r\n",
        "        self.mlp_head = tf.keras.Sequential([tf.keras.layers.Dense(mlp_dim, activation=get_activation('gelu')),\r\n",
        "                                        tf.keras.layers.Dense(num_classes)])\r\n",
        "\r\n",
        "    @tf.function\r\n",
        "    def call(self, img):\r\n",
        "        shapes = tf.shape(img)\r\n",
        "\r\n",
        "        x = self.rearrange(img)\r\n",
        "        x = self.patch_to_embedding(x)\r\n",
        "\r\n",
        "        cls_tokens = tf.broadcast_to(self.cls_token,(shapes[0],1,self.dim))\r\n",
        "        x = tf.concat((cls_tokens, x), axis=1)\r\n",
        "        x += self.pos_embedding\r\n",
        "        x = self.transformer(x)\r\n",
        "\r\n",
        "        x = self.to_cls_token(x[:, 0])\r\n",
        "        return self.mlp_head(x)"
      ],
      "execution_count": 4,
      "outputs": []
    },
    {
      "cell_type": "code",
      "metadata": {
        "id": "XP7ChizsKIFD"
      },
      "source": [
        "logger = logging.getLogger(__name__)\r\n",
        "\r\n",
        "\r\n",
        "class TrainerConfig:\r\n",
        "    # optimization parameters\r\n",
        "    max_epochs = 10\r\n",
        "    batch_size = 64\r\n",
        "    learning_rate = 1e-3\r\n",
        "    # checkpoint settings\r\n",
        "    ckpt_path = None\r\n",
        "\r\n",
        "    def __init__(self, **kwargs):\r\n",
        "        for k, v in kwargs.items():\r\n",
        "            setattr(self, k, v)"
      ],
      "execution_count": 6,
      "outputs": []
    },
    {
      "cell_type": "code",
      "metadata": {
        "id": "js3WhD1gN30L"
      },
      "source": [
        "class Trainer:\r\n",
        "\r\n",
        "    def __init__(self, model, model_config, train_dataset, train_dataset_len, test_dataset, test_dataset_len, config):\r\n",
        "        self.train_dataset = train_dataset.batch(config.batch_size)\r\n",
        "        self.train_dataset_len = train_dataset_len\r\n",
        "        self.test_dataset = test_dataset\r\n",
        "        self.test_dataset_len = None\r\n",
        "        self.test_dist_dataset = None\r\n",
        "        if self.test_dataset:\r\n",
        "            self.test_dataset = test_dataset.batch(config.batch_size)\r\n",
        "            self.test_dataset_len = test_dataset_len\r\n",
        "        self.config = config\r\n",
        "        self.tokens = 0\r\n",
        "        self.strategy = tf.distribute.OneDeviceStrategy(\"GPU:0\")\r\n",
        "        if len(tf.config.list_physical_devices('GPU')) > 1:\r\n",
        "            self.strategy = tf.distribute.MirroredStrategy()\r\n",
        "\r\n",
        "        with self.strategy.scope():\r\n",
        "            self.model = model(**model_config)\r\n",
        "            self.optimizer = tf.keras.optimizers.Adam(learning_rate=config.learning_rate)\r\n",
        "            self.cce = tf.keras.losses.SparseCategoricalCrossentropy(from_logits=True,reduction=tf.keras.losses.Reduction.NONE)\r\n",
        "            self.train_dist_dataset = self.strategy.experimental_distribute_dataset(self.train_dataset)\r\n",
        "            if self.test_dataset:\r\n",
        "                self.test_dist_dataset = self.strategy.experimental_distribute_dataset(self.test_dataset)\r\n",
        "\r\n",
        "    def save_checkpoints(self):\r\n",
        "        if self.config.ckpt_path is not None:\r\n",
        "            self.model.save_weights(self.config.ckpt_path)\r\n",
        "\r\n",
        "\r\n",
        "    def train(self):\r\n",
        "\r\n",
        "        train_loss_metric = tf.keras.metrics.Mean('training_loss', dtype=tf.float32)\r\n",
        "        test_loss_metric = tf.keras.metrics.Mean('testing_loss', dtype=tf.float32)\r\n",
        "\r\n",
        "        train_accuracy = tf.keras.metrics.Accuracy('training_accuracy', dtype=tf.float32)\r\n",
        "        test_accuracy = tf.keras.metrics.Accuracy('testing_accuracy', dtype=tf.float32)\r\n",
        "\r\n",
        "        @tf.function\r\n",
        "        def train_step(dist_inputs):\r\n",
        "\r\n",
        "            def step_fn(inputs):\r\n",
        "\r\n",
        "                X, Y = inputs\r\n",
        "\r\n",
        "                with tf.GradientTape() as tape:\r\n",
        "                # training=True is only needed if there are layers with different\r\n",
        "                # behavior during training versus inference (e.g. Dropout).\r\n",
        "                    logits = self.model(X,training=True)\r\n",
        "                    num_labels = tf.shape(logits)[-1]\r\n",
        "                    label_mask = tf.math.logical_not(Y < 0)\r\n",
        "                    label_mask = tf.reshape(label_mask,(-1,))\r\n",
        "                    logits = tf.reshape(logits,(-1,num_labels))\r\n",
        "                    logits_masked = tf.boolean_mask(logits,label_mask)\r\n",
        "                    label_ids = tf.reshape(Y,(-1,))\r\n",
        "                    label_ids_masked = tf.boolean_mask(label_ids,label_mask)\r\n",
        "                    cross_entropy = self.cce(label_ids_masked, logits_masked)\r\n",
        "                    loss = tf.reduce_sum(cross_entropy) * (1.0 / self.config.batch_size)\r\n",
        "                    y_pred = tf.argmax(tf.nn.softmax(logits,axis=-1),axis=-1)\r\n",
        "                    train_accuracy.update_state(tf.squeeze(Y),y_pred)\r\n",
        "\r\n",
        "                grads = tape.gradient(loss, self.model.trainable_variables)\r\n",
        "                self.optimizer.apply_gradients(list(zip(grads, self.model.trainable_variables)))\r\n",
        "                return cross_entropy\r\n",
        "\r\n",
        "            per_example_losses = self.strategy.run(step_fn, args=(dist_inputs,))\r\n",
        "            sum_loss = self.strategy.reduce(tf.distribute.ReduceOp.SUM, per_example_losses, axis=0)\r\n",
        "            mean_loss = sum_loss / self.config.batch_size\r\n",
        "            return mean_loss\r\n",
        "\r\n",
        "        @tf.function\r\n",
        "        def test_step(dist_inputs):\r\n",
        "\r\n",
        "            def step_fn(inputs):\r\n",
        "\r\n",
        "                X, Y = inputs\r\n",
        "                # training=True is only needed if there are layers with different\r\n",
        "                # behavior during training versus inference (e.g. Dropout).\r\n",
        "                logits = self.model(X,training=False)\r\n",
        "                num_labels = tf.shape(logits)[-1]\r\n",
        "                label_mask = tf.math.logical_not(Y < 0)\r\n",
        "                label_mask = tf.reshape(label_mask,(-1,))\r\n",
        "                logits = tf.reshape(logits,(-1,num_labels))\r\n",
        "                logits_masked = tf.boolean_mask(logits,label_mask)\r\n",
        "                label_ids = tf.reshape(Y,(-1,))\r\n",
        "                label_ids_masked = tf.boolean_mask(label_ids,label_mask)\r\n",
        "                cross_entropy = self.cce(label_ids_masked, logits_masked)\r\n",
        "                loss = tf.reduce_sum(cross_entropy) * (1.0 / self.config.batch_size)\r\n",
        "                y_pred = tf.argmax(tf.nn.softmax(logits,axis=-1),axis=-1)\r\n",
        "                test_accuracy.update_state(tf.squeeze(Y),y_pred)\r\n",
        "\r\n",
        "                return cross_entropy\r\n",
        "\r\n",
        "            per_example_losses = self.strategy.run(step_fn, args=(dist_inputs,))\r\n",
        "            sum_loss = self.strategy.reduce(tf.distribute.ReduceOp.SUM, per_example_losses, axis=0)\r\n",
        "            mean_loss = sum_loss / self.config.batch_size\r\n",
        "            return mean_loss\r\n",
        "\r\n",
        "        train_pb_max_len = math.ceil(float(self.train_dataset_len)/float(self.config.batch_size))\r\n",
        "        test_pb_max_len = math.ceil(float(self.test_dataset_len)/float(self.config.batch_size)) if self.test_dataset else None\r\n",
        "\r\n",
        "        epoch_bar = master_bar(range(self.config.max_epochs))\r\n",
        "        with self.strategy.scope():\r\n",
        "            for epoch in epoch_bar:\r\n",
        "                for inputs in progress_bar(self.train_dist_dataset,total=train_pb_max_len,parent=epoch_bar):\r\n",
        "                    loss = train_step(inputs)\r\n",
        "                    self.tokens += tf.reduce_sum(tf.cast(inputs[1]>=0,tf.int32)).numpy()\r\n",
        "                    train_loss_metric(loss)\r\n",
        "                    epoch_bar.child.comment = f'training loss : {train_loss_metric.result()}'\r\n",
        "                print(f\"epoch {epoch+1}: train loss {train_loss_metric.result():.5f}. train accuracy {train_accuracy.result():.5f}\")\r\n",
        "                train_loss_metric.reset_states()\r\n",
        "                train_accuracy.reset_states()\r\n",
        "\r\n",
        "                if self.test_dist_dataset:\r\n",
        "                    for inputs in progress_bar(self.test_dist_dataset,total=test_pb_max_len,parent=epoch_bar):\r\n",
        "                        loss = test_step(inputs)\r\n",
        "                        test_loss_metric(loss)\r\n",
        "                        epoch_bar.child.comment = f'testing loss : {test_loss_metric.result()}'\r\n",
        "                    print(f\"epoch {epoch+1}: test loss {test_loss_metric.result():.5f}. test accuracy {test_accuracy.result():.5f}\")\r\n",
        "                    test_loss_metric.reset_states()\r\n",
        "                    test_accuracy.reset_states()\r\n",
        "\r\n",
        "                self.save_checkpoints()"
      ],
      "execution_count": 7,
      "outputs": []
    },
    {
      "cell_type": "code",
      "metadata": {
        "colab": {
          "base_uri": "https://localhost:8080/"
        },
        "id": "BSHQHbijgjww",
        "outputId": "dc8ee257-b6b7-4d99-b1b7-415f5d8edb4c"
      },
      "source": [
        "(train_images, train_labels), (test_images, test_labels) = datasets.cifar10.load_data()"
      ],
      "execution_count": 12,
      "outputs": [
        {
          "output_type": "stream",
          "text": [
            "Downloading data from https://www.cs.toronto.edu/~kriz/cifar-10-python.tar.gz\n",
            "170500096/170498071 [==============================] - 4s 0us/step\n"
          ],
          "name": "stdout"
        }
      ]
    },
    {
      "cell_type": "code",
      "metadata": {
        "id": "W4GhXMcHg1ZM"
      },
      "source": [
        "train_images = tf.cast(train_images.reshape((-1, 3, 32, 32)),dtype=tf.float32)\r\n",
        "test_images = tf.cast(test_images.reshape((-1, 3, 32, 32)),dtype=tf.float32)\r\n",
        "train_images, test_images = train_images / 255.0, test_images / 255.0"
      ],
      "execution_count": 13,
      "outputs": []
    },
    {
      "cell_type": "code",
      "metadata": {
        "id": "EtBuVnoIhCBZ"
      },
      "source": [
        "train_x = tf.data.Dataset.from_tensor_slices(train_images,)\r\n",
        "train_y = tf.data.Dataset.from_tensor_slices(train_labels)\r\n",
        "train_dataset = tf.data.Dataset.zip((train_x,train_y))\r\n",
        "test_x = tf.data.Dataset.from_tensor_slices(test_images)\r\n",
        "test_y = tf.data.Dataset.from_tensor_slices(test_labels)\r\n",
        "test_dataset = tf.data.Dataset.zip((test_x,test_y))"
      ],
      "execution_count": 14,
      "outputs": []
    },
    {
      "cell_type": "code",
      "metadata": {
        "id": "779iRot8hGl0"
      },
      "source": [
        "tconf = TrainerConfig(max_epochs=10, batch_size=64, learning_rate=1e-3)"
      ],
      "execution_count": 15,
      "outputs": []
    },
    {
      "cell_type": "code",
      "metadata": {
        "id": "EGfcfoC7hJ1e"
      },
      "source": [
        "# sample model config.\r\n",
        "model_config = {\"image_size\":32,\r\n",
        "                \"patch_size\":4,\r\n",
        "                \"num_classes\":10,\r\n",
        "                \"dim\":64,\r\n",
        "                \"depth\":3,\r\n",
        "                \"heads\":4,\r\n",
        "                \"mlp_dim\":128}"
      ],
      "execution_count": 16,
      "outputs": []
    },
    {
      "cell_type": "code",
      "metadata": {
        "id": "LLK2t2puhNJ5"
      },
      "source": [
        "trainer = Trainer(ViT, model_config, train_dataset, len(train_images), test_dataset, len(test_images), tconf)"
      ],
      "execution_count": 17,
      "outputs": []
    },
    {
      "cell_type": "code",
      "metadata": {
        "colab": {
          "base_uri": "https://localhost:8080/",
          "height": 363
        },
        "id": "axKI4hQshPz-",
        "outputId": "003b1ecd-feea-470c-c105-3c2da54d852f"
      },
      "source": [
        "trainer.train()"
      ],
      "execution_count": 18,
      "outputs": [
        {
          "output_type": "display_data",
          "data": {
            "text/html": [
              ""
            ],
            "text/plain": [
              "<IPython.core.display.HTML object>"
            ]
          },
          "metadata": {
            "tags": []
          }
        },
        {
          "output_type": "stream",
          "text": [
            "epoch 1: train loss 1.80393. train accuracy 0.33798\n",
            "epoch 1: test loss 1.57908. test accuracy 0.42290\n",
            "epoch 2: train loss 1.53079. train accuracy 0.44196\n",
            "epoch 2: test loss 1.47968. test accuracy 0.46380\n",
            "epoch 3: train loss 1.42780. train accuracy 0.48258\n",
            "epoch 3: test loss 1.41461. test accuracy 0.48990\n",
            "epoch 4: train loss 1.35928. train accuracy 0.50858\n",
            "epoch 4: test loss 1.40052. test accuracy 0.49840\n",
            "epoch 5: train loss 1.30790. train accuracy 0.52782\n",
            "epoch 5: test loss 1.40280. test accuracy 0.50370\n",
            "epoch 6: train loss 1.26328. train accuracy 0.54320\n",
            "epoch 6: test loss 1.39730. test accuracy 0.49990\n",
            "epoch 7: train loss 1.22212. train accuracy 0.55936\n",
            "epoch 7: test loss 1.41094. test accuracy 0.50180\n",
            "epoch 8: train loss 1.18995. train accuracy 0.56980\n",
            "epoch 8: test loss 1.42485. test accuracy 0.49700\n",
            "epoch 9: train loss 1.15783. train accuracy 0.58206\n",
            "epoch 9: test loss 1.43118. test accuracy 0.50000\n",
            "epoch 10: train loss 1.13023. train accuracy 0.59376\n",
            "epoch 10: test loss 1.40677. test accuracy 0.51100\n"
          ],
          "name": "stdout"
        }
      ]
    }
  ]
}